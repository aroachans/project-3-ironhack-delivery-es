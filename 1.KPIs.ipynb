{
 "cells": [
  {
   "cell_type": "markdown",
   "id": "1e5a4690-91b8-406f-bae4-3407acefc4e0",
   "metadata": {},
   "source": [
    "## **KPIs ANALYSIS**"
   ]
  },
  {
   "cell_type": "markdown",
   "id": "5c0484b1-8a4a-457d-827a-679c90793225",
   "metadata": {},
   "source": [
    "#### **1. Cancellation rate**"
   ]
  },
  {
   "cell_type": "markdown",
   "id": "2f509fc3-d499-4e3c-bc4b-251f4938d6d2",
   "metadata": {},
   "source": [
    "Measure cancellation rate --> dig into cancelled orders and see, out of total orders, how many of them are cancelled. \n",
    "\n",
    "This will allow us to know if everything is functioning properly or if there are operational issues.\n",
    "\n",
    "Calulated as:\n",
    "***$Cancellation Rate = \\frac{\\text{Cancelled orders}}{\\text{Total number of orders}}$***\n"
   ]
  },
  {
   "cell_type": "markdown",
   "id": "83c02257-981a-41cf-b14d-92eeb166f935",
   "metadata": {},
   "source": [
    "#### **2. Market Penetration Rate**"
   ]
  },
  {
   "cell_type": "markdown",
   "id": "92c8b567-1dae-420a-b6b1-7fdd3d36f694",
   "metadata": {},
   "source": [
    "Use zip code (to measure market penetration rate) --> get data from official sources about neighbourhood population and count distinct(users)/total population per neighborhood\n",
    "\n",
    "***$Market Penetration Rate = \\frac{\\text{N unique users of certain neighborhood}}{\\text{Total population of the neighborhood}}$***"
   ]
  },
  {
   "cell_type": "markdown",
   "id": "d2926f63-24c6-436a-9fd9-a48e4d14455d",
   "metadata": {},
   "source": [
    "#### **3. On Time in Full**"
   ]
  },
  {
   "cell_type": "markdown",
   "id": "089a9f9c-efee-4434-874b-175d6d62edec",
   "metadata": {},
   "source": [
    "The purpose is to measure a company’s ability to fulfil customer orders. \n",
    "\n",
    "    Helps to identify if orders are late, incomplete, over-delivered, or early.\n",
    "    Aids in detecting if such events are recurrent or isolated incidents.\n",
    "\n",
    "    \n",
    "***$OTIF= \\frac{\\text{N orders on time and completed}}{\\text{Total number of orders}}$***\n"
   ]
  }
 ],
 "metadata": {
  "kernelspec": {
   "display_name": "Python 3 (ipykernel)",
   "language": "python",
   "name": "python3"
  },
  "language_info": {
   "codemirror_mode": {
    "name": "ipython",
    "version": 3
   },
   "file_extension": ".py",
   "mimetype": "text/x-python",
   "name": "python",
   "nbconvert_exporter": "python",
   "pygments_lexer": "ipython3",
   "version": "3.10.12"
  }
 },
 "nbformat": 4,
 "nbformat_minor": 5
}
